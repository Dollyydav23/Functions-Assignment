{
  "nbformat": 4,
  "nbformat_minor": 0,
  "metadata": {
    "colab": {
      "provenance": []
    },
    "kernelspec": {
      "name": "python3",
      "display_name": "Python 3"
    },
    "language_info": {
      "name": "python"
    }
  },
  "cells": [
    {
      "cell_type": "markdown",
      "source": [
        "# **Functions Assignment**"
      ],
      "metadata": {
        "id": "kPJRYELn8zpy"
      }
    },
    {
      "cell_type": "markdown",
      "source": [
        "***Practical Questions***"
      ],
      "metadata": {
        "id": "UzkLk87j9UTG"
      }
    },
    {
      "cell_type": "markdown",
      "source": [
        "1. Write a Python function that takes a list of numbers as input and returns the sum of all even numbers in\n",
        "the list"
      ],
      "metadata": {
        "id": "ur1RZlkG9lEt"
      }
    },
    {
      "cell_type": "code",
      "source": [
        "def sum_of_even_numbers(numbers):\n",
        "    total = 0\n",
        "    for num in numbers:\n",
        "        if num % 2 == 0:\n",
        "            total += num\n",
        "    return total\n",
        "\n",
        "numbers = list(map(int, input(\"Enter numbers separated by space: \").split()))\n",
        "result = sum_of_even_numbers(numbers)\n",
        "print(\"Sum of even numbers:\", result)\n"
      ],
      "metadata": {
        "colab": {
          "base_uri": "https://localhost:8080/"
        },
        "id": "srYC6PdS_X43",
        "outputId": "6fcdc101-c987-4691-fd99-a8eeeebbc011"
      },
      "execution_count": 7,
      "outputs": [
        {
          "output_type": "stream",
          "name": "stdout",
          "text": [
            "Enter numbers separated by space: 10 15 20 25 30\n",
            "Sum of even numbers: 60\n"
          ]
        }
      ]
    },
    {
      "cell_type": "markdown",
      "source": [
        "2.  2. Create a Python function that accepts a string and returns the reverse of that string"
      ],
      "metadata": {
        "id": "FLuh-xp5_nA2"
      }
    },
    {
      "cell_type": "code",
      "source": [
        "def reverse_string(text):\n",
        "    return text[::-1]\n",
        "user_input = input(\"Enter a string: \")\n",
        "\n",
        "reversed_text = reverse_string(user_input)\n",
        "\n",
        "print(\"Reversed string:\", reversed_text)\n"
      ],
      "metadata": {
        "colab": {
          "base_uri": "https://localhost:8080/"
        },
        "id": "jEpcqfHM_aQw",
        "outputId": "64b297fb-5cd8-4a82-d409-cd531ed1804f"
      },
      "execution_count": 9,
      "outputs": [
        {
          "output_type": "stream",
          "name": "stdout",
          "text": [
            "Enter a string: dolly\n",
            "Reversed string: yllod\n"
          ]
        }
      ]
    },
    {
      "cell_type": "markdown",
      "source": [
        "3. Implement a Python function that takes a list of integers and returns a new list containing the squares of each number."
      ],
      "metadata": {
        "id": "bqcCx9H2ARns"
      }
    },
    {
      "cell_type": "code",
      "source": [
        "def square_numbers(numbers):\n",
        "    squares = []\n",
        "    for num in numbers:\n",
        "        squares.append(num ** 2)\n",
        "    return squares\n",
        "numbers = list(map(int, input(\"Enter numbers separated by space: \").split()))\n",
        "result = square_numbers(numbers)\n",
        "print(\"List of squares:\", result)\n"
      ],
      "metadata": {
        "colab": {
          "base_uri": "https://localhost:8080/"
        },
        "id": "tKVj4KTZ_2kY",
        "outputId": "82cef40a-3d2b-47c4-cecd-f71f9da5ee06"
      },
      "execution_count": 10,
      "outputs": [
        {
          "output_type": "stream",
          "name": "stdout",
          "text": [
            "Enter numbers separated by space: 1 4 5 6\n",
            "List of squares: [1, 16, 25, 36]\n"
          ]
        }
      ]
    },
    {
      "cell_type": "markdown",
      "source": [
        "4. Write a Python function that checks if a given number is prime or not from 1 to 200."
      ],
      "metadata": {
        "id": "Je27bPYAAmhH"
      }
    },
    {
      "cell_type": "code",
      "source": [
        "def is_prime(num):\n",
        "    if num < 2:\n",
        "        return False\n",
        "    for i in range(2, int(num ** 0.5) + 1):\n",
        "        if num % i == 0:\n",
        "            return False\n",
        "    return True\n",
        "for number in range(1, 201):\n",
        "    if is_prime(number):\n",
        "        print(f\"{number} is a prime number\")\n",
        "    else:\n",
        "        print(f\"{number} is not a prime number\")\n"
      ],
      "metadata": {
        "colab": {
          "base_uri": "https://localhost:8080/"
        },
        "id": "O5WN4bmtAkTy",
        "outputId": "a3c4dcbd-a64d-484b-f805-a75247bb7c1c"
      },
      "execution_count": 11,
      "outputs": [
        {
          "output_type": "stream",
          "name": "stdout",
          "text": [
            "1 is not a prime number\n",
            "2 is a prime number\n",
            "3 is a prime number\n",
            "4 is not a prime number\n",
            "5 is a prime number\n",
            "6 is not a prime number\n",
            "7 is a prime number\n",
            "8 is not a prime number\n",
            "9 is not a prime number\n",
            "10 is not a prime number\n",
            "11 is a prime number\n",
            "12 is not a prime number\n",
            "13 is a prime number\n",
            "14 is not a prime number\n",
            "15 is not a prime number\n",
            "16 is not a prime number\n",
            "17 is a prime number\n",
            "18 is not a prime number\n",
            "19 is a prime number\n",
            "20 is not a prime number\n",
            "21 is not a prime number\n",
            "22 is not a prime number\n",
            "23 is a prime number\n",
            "24 is not a prime number\n",
            "25 is not a prime number\n",
            "26 is not a prime number\n",
            "27 is not a prime number\n",
            "28 is not a prime number\n",
            "29 is a prime number\n",
            "30 is not a prime number\n",
            "31 is a prime number\n",
            "32 is not a prime number\n",
            "33 is not a prime number\n",
            "34 is not a prime number\n",
            "35 is not a prime number\n",
            "36 is not a prime number\n",
            "37 is a prime number\n",
            "38 is not a prime number\n",
            "39 is not a prime number\n",
            "40 is not a prime number\n",
            "41 is a prime number\n",
            "42 is not a prime number\n",
            "43 is a prime number\n",
            "44 is not a prime number\n",
            "45 is not a prime number\n",
            "46 is not a prime number\n",
            "47 is a prime number\n",
            "48 is not a prime number\n",
            "49 is not a prime number\n",
            "50 is not a prime number\n",
            "51 is not a prime number\n",
            "52 is not a prime number\n",
            "53 is a prime number\n",
            "54 is not a prime number\n",
            "55 is not a prime number\n",
            "56 is not a prime number\n",
            "57 is not a prime number\n",
            "58 is not a prime number\n",
            "59 is a prime number\n",
            "60 is not a prime number\n",
            "61 is a prime number\n",
            "62 is not a prime number\n",
            "63 is not a prime number\n",
            "64 is not a prime number\n",
            "65 is not a prime number\n",
            "66 is not a prime number\n",
            "67 is a prime number\n",
            "68 is not a prime number\n",
            "69 is not a prime number\n",
            "70 is not a prime number\n",
            "71 is a prime number\n",
            "72 is not a prime number\n",
            "73 is a prime number\n",
            "74 is not a prime number\n",
            "75 is not a prime number\n",
            "76 is not a prime number\n",
            "77 is not a prime number\n",
            "78 is not a prime number\n",
            "79 is a prime number\n",
            "80 is not a prime number\n",
            "81 is not a prime number\n",
            "82 is not a prime number\n",
            "83 is a prime number\n",
            "84 is not a prime number\n",
            "85 is not a prime number\n",
            "86 is not a prime number\n",
            "87 is not a prime number\n",
            "88 is not a prime number\n",
            "89 is a prime number\n",
            "90 is not a prime number\n",
            "91 is not a prime number\n",
            "92 is not a prime number\n",
            "93 is not a prime number\n",
            "94 is not a prime number\n",
            "95 is not a prime number\n",
            "96 is not a prime number\n",
            "97 is a prime number\n",
            "98 is not a prime number\n",
            "99 is not a prime number\n",
            "100 is not a prime number\n",
            "101 is a prime number\n",
            "102 is not a prime number\n",
            "103 is a prime number\n",
            "104 is not a prime number\n",
            "105 is not a prime number\n",
            "106 is not a prime number\n",
            "107 is a prime number\n",
            "108 is not a prime number\n",
            "109 is a prime number\n",
            "110 is not a prime number\n",
            "111 is not a prime number\n",
            "112 is not a prime number\n",
            "113 is a prime number\n",
            "114 is not a prime number\n",
            "115 is not a prime number\n",
            "116 is not a prime number\n",
            "117 is not a prime number\n",
            "118 is not a prime number\n",
            "119 is not a prime number\n",
            "120 is not a prime number\n",
            "121 is not a prime number\n",
            "122 is not a prime number\n",
            "123 is not a prime number\n",
            "124 is not a prime number\n",
            "125 is not a prime number\n",
            "126 is not a prime number\n",
            "127 is a prime number\n",
            "128 is not a prime number\n",
            "129 is not a prime number\n",
            "130 is not a prime number\n",
            "131 is a prime number\n",
            "132 is not a prime number\n",
            "133 is not a prime number\n",
            "134 is not a prime number\n",
            "135 is not a prime number\n",
            "136 is not a prime number\n",
            "137 is a prime number\n",
            "138 is not a prime number\n",
            "139 is a prime number\n",
            "140 is not a prime number\n",
            "141 is not a prime number\n",
            "142 is not a prime number\n",
            "143 is not a prime number\n",
            "144 is not a prime number\n",
            "145 is not a prime number\n",
            "146 is not a prime number\n",
            "147 is not a prime number\n",
            "148 is not a prime number\n",
            "149 is a prime number\n",
            "150 is not a prime number\n",
            "151 is a prime number\n",
            "152 is not a prime number\n",
            "153 is not a prime number\n",
            "154 is not a prime number\n",
            "155 is not a prime number\n",
            "156 is not a prime number\n",
            "157 is a prime number\n",
            "158 is not a prime number\n",
            "159 is not a prime number\n",
            "160 is not a prime number\n",
            "161 is not a prime number\n",
            "162 is not a prime number\n",
            "163 is a prime number\n",
            "164 is not a prime number\n",
            "165 is not a prime number\n",
            "166 is not a prime number\n",
            "167 is a prime number\n",
            "168 is not a prime number\n",
            "169 is not a prime number\n",
            "170 is not a prime number\n",
            "171 is not a prime number\n",
            "172 is not a prime number\n",
            "173 is a prime number\n",
            "174 is not a prime number\n",
            "175 is not a prime number\n",
            "176 is not a prime number\n",
            "177 is not a prime number\n",
            "178 is not a prime number\n",
            "179 is a prime number\n",
            "180 is not a prime number\n",
            "181 is a prime number\n",
            "182 is not a prime number\n",
            "183 is not a prime number\n",
            "184 is not a prime number\n",
            "185 is not a prime number\n",
            "186 is not a prime number\n",
            "187 is not a prime number\n",
            "188 is not a prime number\n",
            "189 is not a prime number\n",
            "190 is not a prime number\n",
            "191 is a prime number\n",
            "192 is not a prime number\n",
            "193 is a prime number\n",
            "194 is not a prime number\n",
            "195 is not a prime number\n",
            "196 is not a prime number\n",
            "197 is a prime number\n",
            "198 is not a prime number\n",
            "199 is a prime number\n",
            "200 is not a prime number\n"
          ]
        }
      ]
    },
    {
      "cell_type": "markdown",
      "source": [
        "5.  5. Create an iterator class in Python that generates the Fibonacci sequence up to a specified number of terms"
      ],
      "metadata": {
        "id": "2-StMhgHA5Nd"
      }
    },
    {
      "cell_type": "code",
      "source": [
        "class FibonacciIterator:\n",
        "    def __init__(self, max_terms):\n",
        "        self.max_terms = max_terms\n",
        "        self.count = 0\n",
        "        self.a, self.b = 0, 1\n",
        "\n",
        "    def __iter__(self):\n",
        "        return self\n",
        "\n",
        "    def __next__(self):\n",
        "        if self.count >= self.max_terms:\n",
        "            raise StopIteration\n",
        "        if self.count == 0:\n",
        "            self.count += 1\n",
        "            return self.a\n",
        "        elif self.count == 1:\n",
        "            self.count += 1\n",
        "            return self.b\n",
        "        else:\n",
        "            self.a, self.b = self.b, self.a + self.b\n",
        "            self.count += 1\n",
        "            return self.b\n",
        "n = int(input(\"Enter the number of Fibonacci terms: \"))\n",
        "fib_iterator = FibonacciIterator(n)\n",
        "\n",
        "print(\"Fibonacci sequence:\")\n",
        "for num in fib_iterator:\n",
        "    print(num, end=\" \")\n"
      ],
      "metadata": {
        "colab": {
          "base_uri": "https://localhost:8080/"
        },
        "id": "X8bn_PbXA15f",
        "outputId": "be9ed830-8309-4efe-9127-5f8956b4b129"
      },
      "execution_count": 13,
      "outputs": [
        {
          "output_type": "stream",
          "name": "stdout",
          "text": [
            "Enter the number of Fibonacci terms: 10\n",
            "Fibonacci sequence:\n",
            "0 1 1 2 3 5 8 13 21 34 "
          ]
        }
      ]
    },
    {
      "cell_type": "markdown",
      "source": [
        "6. Write a generator function in Python that yields the powers of 2 up to a given exponent."
      ],
      "metadata": {
        "id": "nCIqbzvPBcrJ"
      }
    },
    {
      "cell_type": "code",
      "source": [
        "def powers_of_two(max_exponent):\n",
        "    for exp in range(max_exponent + 1):\n",
        "        yield 2 ** exp\n",
        "n = int(input(\"Enter the maximum exponent: \"))\n",
        "print(f\"Powers of 2 up to 2^{n}:\")\n",
        "for value in powers_of_two(n):\n",
        "    print(value)\n"
      ],
      "metadata": {
        "colab": {
          "base_uri": "https://localhost:8080/"
        },
        "id": "1rv7hl6jBSOT",
        "outputId": "b378378d-9d0d-4cfb-c239-5cffd9d2ccd4"
      },
      "execution_count": 15,
      "outputs": [
        {
          "output_type": "stream",
          "name": "stdout",
          "text": [
            "Enter the maximum exponent: 5\n",
            "Powers of 2 up to 2^5:\n",
            "1\n",
            "2\n",
            "4\n",
            "8\n",
            "16\n",
            "32\n"
          ]
        }
      ]
    },
    {
      "cell_type": "markdown",
      "source": [
        "7.  7. Implement a generator function that reads a file line by line and yields each line as a string"
      ],
      "metadata": {
        "id": "o60AkPgIBw6f"
      }
    },
    {
      "cell_type": "code",
      "source": [
        "def read_file_line_by_line(filename):\n",
        "    try:\n",
        "        with open(filename, 'r') as file:\n",
        "            for line in file:\n",
        "                yield line.strip()\n",
        "    except FileNotFoundError:\n",
        "        print(f\"Error: File '{filename}' not found.\")\n",
        "file_name = \"sample.txt\"\n",
        "print(\"Reading file line by line:\")\n",
        "for line in read_file_line_by_line(file_name):\n",
        "    print(line)\n"
      ],
      "metadata": {
        "colab": {
          "base_uri": "https://localhost:8080/"
        },
        "id": "Dj1FTTZWBnJQ",
        "outputId": "acdf51f6-91ee-4f5e-bbc3-a3773c3012db"
      },
      "execution_count": 17,
      "outputs": [
        {
          "output_type": "stream",
          "name": "stdout",
          "text": [
            "Reading file line by line:\n",
            "Error: File 'sample.txt' not found.\n"
          ]
        }
      ]
    },
    {
      "cell_type": "markdown",
      "source": [
        "8. Use a lambda function in Python to sort a list of tuples based on the second element of each tuple."
      ],
      "metadata": {
        "id": "g7HsaexhCvSA"
      }
    },
    {
      "cell_type": "code",
      "source": [
        "# list of tuples\n",
        "data = [(1, 5), (3, 2), (4, 8), (2, 1)]\n",
        "\n",
        "# Sort based on the second element using lambda\n",
        "sorted_data = sorted(data, key=lambda x: x[1])\n",
        "\n",
        "print(\"Original list:\", data)\n",
        "print(\"Sorted list (by second element):\", sorted_data)\n"
      ],
      "metadata": {
        "colab": {
          "base_uri": "https://localhost:8080/"
        },
        "id": "DPFc3ZXKCDPc",
        "outputId": "d4d79785-1d36-4f8a-a0c3-fe1cfb86526a"
      },
      "execution_count": 18,
      "outputs": [
        {
          "output_type": "stream",
          "name": "stdout",
          "text": [
            "Original list: [(1, 5), (3, 2), (4, 8), (2, 1)]\n",
            "Sorted list (by second element): [(2, 1), (3, 2), (1, 5), (4, 8)]\n"
          ]
        }
      ]
    },
    {
      "cell_type": "markdown",
      "source": [
        "9. Write a Python program that uses `map()` to convert a list of temperatures from Celsius to Fahrenheit"
      ],
      "metadata": {
        "id": "X329NFONDBAB"
      }
    },
    {
      "cell_type": "code",
      "source": [
        "# Function to convert Celsius to Fahrenheit\n",
        "def celsius_to_fahrenheit(c):\n",
        "    return (c * 9/5) + 32\n",
        "\n",
        "celsius_temps = list(map(float, input(\"Enter temperatures in Celsius (space separated): \").split()))\n",
        "fahrenheit_temps = list(map(celsius_to_fahrenheit, celsius_temps))\n",
        "print(\"Temperatures in Fahrenheit:\", fahrenheit_temps)\n"
      ],
      "metadata": {
        "colab": {
          "base_uri": "https://localhost:8080/"
        },
        "id": "x8e5R08oDASQ",
        "outputId": "5002f035-855e-48b7-b86a-918a0b39c761"
      },
      "execution_count": 19,
      "outputs": [
        {
          "output_type": "stream",
          "name": "stdout",
          "text": [
            "Enter temperatures in Celsius (space separated): 0 20 37 100\n",
            "Temperatures in Fahrenheit: [32.0, 68.0, 98.6, 212.0]\n"
          ]
        }
      ]
    },
    {
      "cell_type": "markdown",
      "source": [
        "10. Create a Python program that uses `filter()` to remove all the vowels from a given string"
      ],
      "metadata": {
        "id": "WBI_KvHADVDQ"
      }
    },
    {
      "cell_type": "code",
      "source": [
        "def is_not_vowel(char):\n",
        "    vowels = \"aeiouAEIOU\"\n",
        "    return char not in vowels\n",
        "text = input(\"Enter a string: \")\n",
        "filtered_chars = filter(is_not_vowel, text)\n",
        "result = ''.join(filtered_chars)\n",
        "\n",
        "print(\"String without vowels:\", result)\n",
        "\n"
      ],
      "metadata": {
        "colab": {
          "base_uri": "https://localhost:8080/"
        },
        "id": "NHemBqKbDQR-",
        "outputId": "2bfddbc5-bb28-4289-d548-5f4858568871"
      },
      "execution_count": 20,
      "outputs": [
        {
          "output_type": "stream",
          "name": "stdout",
          "text": [
            "Enter a string: hello\n",
            "String without vowels: hll\n"
          ]
        }
      ]
    },
    {
      "cell_type": "markdown",
      "source": [
        "11. Imagine an accounting routine used in a book shop. It works on a list with sublists, which look like this"
      ],
      "metadata": {
        "id": "urBOzC0lDrQV"
      }
    },
    {
      "cell_type": "code",
      "source": [
        "orders = [\n",
        "    [34587, \"Learning Python, Mark Lutz\", 4, 40.95],\n",
        "    [98762, \"Programming Python, Mark Lutz\", 5, 56.80],\n",
        "    [77226, \"Head First Python, Paul Barry\", 3, 32.95],\n",
        "    [88112, \"Einführung in Python3, Bernd Klein\", 3, 24.99]\n",
        "]\n",
        "\n",
        "invoice_totals = list(map(\n",
        "    lambda x: (x[0], x[2] * x[3] if x[2] * x[3] >= 100 else x[2] * x[3] + 10),\n",
        "    orders\n",
        "))\n",
        "\n",
        "print(invoice_totals)\n"
      ],
      "metadata": {
        "colab": {
          "base_uri": "https://localhost:8080/"
        },
        "id": "0vNeMc2eDmOq",
        "outputId": "5cb554e0-c93b-417c-acaf-ae83c2959bfa"
      },
      "execution_count": 21,
      "outputs": [
        {
          "output_type": "stream",
          "name": "stdout",
          "text": [
            "[(34587, 163.8), (98762, 284.0), (77226, 108.85000000000001), (88112, 84.97)]\n"
          ]
        }
      ]
    },
    {
      "cell_type": "code",
      "source": [],
      "metadata": {
        "id": "09iIpCGVEjwh"
      },
      "execution_count": null,
      "outputs": []
    }
  ]
}